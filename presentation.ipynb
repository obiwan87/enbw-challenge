{
 "cells": [
  {
   "cell_type": "markdown",
   "metadata": {
    "pycharm": {
     "metadata": false
    }
   },
   "source": [
    "# EnBw DataBiz Challenge"
   ]
  },
  {
   "cell_type": "code",
   "execution_count": 2,
   "metadata": {
    "pycharm": {
     "is_executing": false,
     "metadata": false,
     "name": "#%%\n"
    }
   },
   "outputs": [],
   "source": [
    "import datetime\n",
    "from utils.datetime_utils import day_of_year_to_date\n",
    "from utils.io import read_enbw_dataset\n",
    "import seaborn as sns\n",
    "import pandas as pd\n",
    "import numpy as np\n",
    "from visualize import visualize_household\n",
    "\n",
    "filepath = 'data/hackathon_EnBW_smart_meter_data_30_hh.csv'\n",
    "data = read_enbw_dataset(filepath)\n",
    "\n",
    "data.head()\n",
    "\n",
    "households = data.groupby('id')\n",
    "household_id = 3\n",
    "# Get a random household\n",
    "group = households.get_group(household_id)\n",
    "group.set_index(group.timestampLocal, inplace=True)\n"
   ]
  },
  {
   "cell_type": "markdown",
   "metadata": {
    "pycharm": {
     "metadata": false,
     "name": "#%% md\n"
    }
   },
   "source": [
    "## Analyze typical day of household"
   ]
  },
  {
   "cell_type": "code",
   "execution_count": 3,
   "metadata": {
    "pycharm": {
     "is_executing": false,
     "metadata": false,
     "name": "#%%\n"
    }
   },
   "outputs": [
    {
     "data": {
      "text/plain": [
       "<matplotlib.axes._subplots.AxesSubplot at 0x7f2be959c5f8>"
      ]
     },
     "execution_count": 3,
     "metadata": {},
     "output_type": "execute_result"
    },
    {
     "data": {
      "image/png": "[encoded data removed]",
      "text/plain": [
       "<Figure size 432x288 with 1 Axes>"
      ]
     },
     "metadata": {
      "needs_background": "light"
     },
     "output_type": "display_data"
    }
   ],
   "source": [
    "\n",
    "resample = group.resample('1H').mean()\n",
    "resample['hour_idx'] = resample.index.hour\n",
    "resample.set_index('hour_idx', inplace=True)\n",
    "resample.index.name = 'hour_idx'\n",
    "resample['Hour of the day'] = resample.index \n",
    "sns.lineplot(x='Hour of the day', y='value', data=resample)\n"
   ]
  },
  {
   "cell_type": "markdown",
   "metadata": {
    "pycharm": {
     "metadata": false,
     "name": "#%% md\n"
    }
   },
   "source": [
    "Um Anomalien zu entdecken, die auf unerwartet niedrigen Stromverbrauch hinweisen, zu finden, haben wir ersteinmal\n",
    "einige Annahmen getroffen. \n",
    "\n",
    "Annahme 1: Nachts am frühen Morgen wird konsistent weniger Strom verbraucht: Benutze \"Schlafverbrauch\" \n",
    "als Referenzsignal für Anomalie."
   ]
  },
  {
   "cell_type": "code",
   "execution_count": 4,
   "metadata": {
    "pycharm": {
     "is_executing": false,
     "metadata": false,
     "name": "#%%\n"
    }
   },
   "outputs": [
    {
     "data": {
      "text/plain": [
       "mean     209.917797\n",
       "min       54.777500\n",
       "max     1618.440000\n",
       "std      112.795392\n",
       "dtype: float64"
      ]
     },
     "execution_count": 4,
     "metadata": {},
     "output_type": "execute_result"
    }
   ],
   "source": [
    "\n",
    "grouped_by_hour = group.groupby(lambda x: pd.to_timedelta(x.hour, unit='H'))\n",
    "average_day = grouped_by_hour.value.agg(['mean', 'min', 'max', 'std'])\n",
    "assumed_inactivity = average_day.sort_values(by='mean').iloc[0:4, :].mean()\n",
    "assumed_inactivity_std = assumed_inactivity['std']\n",
    "overall_std = group.value.std()\n",
    "assumed_inactivity\n"
   ]
  },
  {
   "cell_type": "markdown",
   "metadata": {
    "pycharm": {
     "metadata": false,
     "name": "#%% md\n"
    }
   },
   "source": [
    "## Seasonal Trends\n",
    "Annahme 2: Der Grundverbrauch verändert sich mittelfristig über das Jahr, bedingt durch Feiertage, \n",
    "Schulferien und Klima: der Grundverbrauch. \n",
    "\n",
    "Extrahiere saisonale Baseline um unerwartetes Verhalten besser einzuschätzen.\n"
   ]
  },
  {
   "cell_type": "code",
   "execution_count": 5,
   "metadata": {
    "pycharm": {
     "is_executing": false,
     "metadata": false,
     "name": "#%%\n"
    }
   },
   "outputs": [
    {
     "name": "stderr",
     "output_type": "stream",
     "text": [
      "/home/simone/.local/share/virtualenvs/enbw-challenge-0BWRMCLz/lib/python3.6/site-packages/ipykernel_launcher.py:41: RuntimeWarning:\n",
      "\n",
      "invalid value encountered in less\n",
      "\n",
      "/home/simone/.local/share/virtualenvs/enbw-challenge-0BWRMCLz/lib/python3.6/site-packages/ipykernel_launcher.py:41: RuntimeWarning:\n",
      "\n",
      "invalid value encountered in less\n",
      "\n"
     ]
    }
   ],
   "source": [
    "inactivity_anomaly_vectors = []\n",
    "is_nocturnal_activity_vectors = []\n",
    "\n",
    "# for day, day_group in grouped_by_day:\n",
    "day_manual = 0\n",
    "# day = 229\n",
    "\n",
    "seasonal_mean = group.resample('1W').mean()\n",
    "grouped_by_day = group.groupby(lambda x: x.dayofyear)\n",
    "\n",
    "# Parameters :)\n",
    "alpha = 0.005\n",
    "beta = 1 / 2\n",
    "m = np.reshape([1, 2], (2, 1))\n",
    "\n",
    "for day, day_group in grouped_by_day:\n",
    "    try:\n",
    "        if day_manual > 0:\n",
    "            day_group = grouped_by_day.get_group(day_manual)\n",
    "        day_statistics = day_group.resample('1H').value.agg(['mean', 'min', 'max', 'std'])\n",
    "        day_statistics['offset'] = pd.to_timedelta(day_statistics.index.hour, unit='H')\n",
    "\n",
    "        date = day_of_year_to_date(day, 2014)\n",
    "        seasonal_mean['sort_val'] = abs((seasonal_mean.index - date).days)\n",
    "        unexpected_signal_threshold = seasonal_mean.sort_values('sort_val').iloc[0]['value'] + beta * assumed_inactivity_std\n",
    "\n",
    "        merged_statistics = day_statistics.merge(average_day, how='left', left_on=day_statistics.offset,\n",
    "                                                 right_on=average_day.index)\n",
    "\n",
    "        expectations_to_inactivity = (\n",
    "                    (average_day['mean'] - assumed_inactivity['mean']) / assumed_inactivity['std']).values\n",
    "        is_unexpected = average_day['mean'] > unexpected_signal_threshold\n",
    "\n",
    "        deviation_from_inactivity = (\n",
    "                (merged_statistics['mean_x'] - assumed_inactivity['mean']) / assumed_inactivity['std']).values\n",
    "        # comparison_to_night_activity.index.name = 'index'\n",
    "\n",
    "        deviation_from_expectation = ((merged_statistics['mean_x'] - merged_statistics['mean_y']) / merged_statistics[\n",
    "            'mean_y']).values\n",
    "\n",
    "        is_inactivity = deviation_from_inactivity < alpha * overall_std\n",
    "        is_inactivity_indices, = np.where(deviation_from_inactivity)\n",
    "\n",
    "        inactivity_anomaly_vector = np.sum(np.vstack((is_unexpected, is_inactivity)).astype(np.int32) * m, axis=0)\n",
    "        inactivity_anomaly_vectors.append(inactivity_anomaly_vector)\n",
    "\n",
    "        # 2. anomaly: nocturnal activity\n",
    "        # nocturnal_activity_vector = np.logical_and(deviation_from_expectation > gamma, night_hours).astype(np.int)\n",
    "        # is_nocturnal_activity_vectors.append(nocturnal_activity_vector)\n",
    "        if day_manual > 0:\n",
    "            break\n",
    "    except ValueError:\n",
    "        continue\n",
    "        "
   ]
  },
  {
   "cell_type": "markdown",
   "metadata": {
    "pycharm": {
     "metadata": false
    }
   },
   "source": [
    "# Ergebnisse"
   ]
  },
  {
   "cell_type": "code",
   "execution_count": 10,
   "metadata": {
    "pycharm": {
     "is_executing": false,
     "metadata": false,
     "name": "#%%\n"
    }
   },
   "outputs": [
    {
     "name": "stderr",
     "output_type": "stream",
     "text": [
      "/home/simone/projects/enbw-challenge/enbw-challenge/visualize.py:29: SettingWithCopyWarning:\n",
      "\n",
      "\n",
      "A value is trying to be set on a copy of a slice from a DataFrame\n",
      "\n",
      "See the caveats in the documentation: http://pandas.pydata.org/pandas-docs/stable/indexing.html#indexing-view-versus-copy\n",
      "\n",
      "/home/simone/.local/share/virtualenvs/enbw-challenge-0BWRMCLz/lib/python3.6/site-packages/pandas/plotting/_converter.py:129: FutureWarning:\n",
      "\n",
      "Using an implicitly registered datetime converter for a matplotlib plotting method. The converter was registered by pandas on import. Future versions of pandas will require you to explicitly register matplotlib converters.\n",
      "\n",
      "To register the converters:\n",
      "\t>>> from pandas.plotting import register_matplotlib_converters\n",
      "\t>>> register_matplotlib_converters()\n",
      "\n"
     ]
    },
    {
     "name": "stdout",
     "output_type": "stream",
     "text": [
      "            timestampLocal  id    value  sun  holiday      time        date\n",
      "67683  2014-01-01 00:15:00   3   453.52    0        1  00:15:00  2014-01-01\n",
      "67684  2014-01-01 00:30:00   3   500.44    0        1  00:30:00  2014-01-01\n",
      "67685  2014-01-01 00:45:00   3   621.51    0        1  00:45:00  2014-01-01\n",
      "67686  2014-01-01 01:00:00   3   699.91    0        1  01:00:00  2014-01-01\n",
      "67687  2014-01-01 01:15:00   3   467.25    0        1  01:15:00  2014-01-01\n",
      "67688  2014-01-01 01:30:00   3   437.98    0        1  01:30:00  2014-01-01\n",
      "67689  2014-01-01 01:45:00   3   498.41    0        1  01:45:00  2014-01-01\n",
      "67690  2014-01-01 02:00:00   3   434.74    0        1  02:00:00  2014-01-01\n",
      "67691  2014-01-01 02:15:00   3   304.03    0        1  02:15:00  2014-01-01\n",
      "67692  2014-01-01 02:30:00   3   274.08    0        1  02:30:00  2014-01-01\n",
      "67693  2014-01-01 02:45:00   3   232.53    0        1  02:45:00  2014-01-01\n",
      "67694  2014-01-01 03:00:00   3   199.32    0        1  03:00:00  2014-01-01\n",
      "67695  2014-01-01 03:15:00   3   179.88    0        1  03:15:00  2014-01-01\n",
      "67696  2014-01-01 03:30:00   3   133.97    0        1  03:30:00  2014-01-01\n",
      "67697  2014-01-01 03:45:00   3   106.53    0        1  03:45:00  2014-01-01\n",
      "67698  2014-01-01 04:00:00   3   125.41    0        1  04:00:00  2014-01-01\n",
      "67699  2014-01-01 04:15:00   3   199.98    0        1  04:15:00  2014-01-01\n",
      "67700  2014-01-01 04:30:00   3   263.67    0        1  04:30:00  2014-01-01\n",
      "67701  2014-01-01 04:45:00   3   267.50    0        1  04:45:00  2014-01-01\n",
      "67702  2014-01-01 05:00:00   3   309.24    0        1  05:00:00  2014-01-01\n",
      "67703  2014-01-01 05:15:00   3   365.94    0        1  05:15:00  2014-01-01\n",
      "67704  2014-01-01 05:30:00   3   388.11    0        1  05:30:00  2014-01-01\n",
      "67705  2014-01-01 05:45:00   3   315.28    0        1  05:45:00  2014-01-01\n",
      "67706  2014-01-01 06:00:00   3   170.54    0        1  06:00:00  2014-01-01\n",
      "67707  2014-01-01 06:15:00   3   145.03    0        1  06:15:00  2014-01-01\n",
      "67708  2014-01-01 06:30:00   3   170.71    0        1  06:30:00  2014-01-01\n",
      "67709  2014-01-01 06:45:00   3   248.43    0        1  06:45:00  2014-01-01\n",
      "67710  2014-01-01 07:00:00   3   284.65    0        1  07:00:00  2014-01-01\n",
      "67711  2014-01-01 07:15:00   3   246.48    0        1  07:15:00  2014-01-01\n",
      "67712  2014-01-01 07:30:00   3   209.21    0        1  07:30:00  2014-01-01\n",
      "...                    ...  ..      ...  ...      ...       ...         ...\n",
      "102672 2014-12-31 16:30:00   3   669.18    1        0  16:30:00  2014-12-31\n",
      "102673 2014-12-31 16:45:00   3  1033.89    1        0  16:45:00  2014-12-31\n",
      "102674 2014-12-31 17:00:00   3   989.35    1        0  17:00:00  2014-12-31\n",
      "102675 2014-12-31 17:15:00   3  1306.60    1        0  17:15:00  2014-12-31\n",
      "102676 2014-12-31 17:30:00   3   525.88    0        0  17:30:00  2014-12-31\n",
      "102677 2014-12-31 17:45:00   3   385.56    0        0  17:45:00  2014-12-31\n",
      "102678 2014-12-31 18:00:00   3   348.56    0        0  18:00:00  2014-12-31\n",
      "102679 2014-12-31 18:15:00   3   317.29    0        0  18:15:00  2014-12-31\n",
      "102680 2014-12-31 18:30:00   3   374.47    0        0  18:30:00  2014-12-31\n",
      "102681 2014-12-31 18:45:00   3   285.44    0        0  18:45:00  2014-12-31\n",
      "102682 2014-12-31 19:00:00   3   398.24    0        0  19:00:00  2014-12-31\n",
      "102683 2014-12-31 19:15:00   3   388.28    0        0  19:15:00  2014-12-31\n",
      "102684 2014-12-31 19:30:00   3   288.02    0        0  19:30:00  2014-12-31\n",
      "102685 2014-12-31 19:45:00   3   275.67    0        0  19:45:00  2014-12-31\n",
      "102686 2014-12-31 20:00:00   3   264.34    0        0  20:00:00  2014-12-31\n",
      "102687 2014-12-31 20:15:00   3   273.96    0        0  20:15:00  2014-12-31\n",
      "102688 2014-12-31 20:30:00   3   490.94    0        0  20:30:00  2014-12-31\n",
      "102689 2014-12-31 20:45:00   3   394.36    0        0  20:45:00  2014-12-31\n",
      "102690 2014-12-31 21:00:00   3   343.57    0        0  21:00:00  2014-12-31\n",
      "102691 2014-12-31 21:15:00   3   274.19    0        0  21:15:00  2014-12-31\n",
      "102692 2014-12-31 21:30:00   3   271.92    0        0  21:30:00  2014-12-31\n",
      "102693 2014-12-31 21:45:00   3   440.63    0        0  21:45:00  2014-12-31\n",
      "102694 2014-12-31 22:00:00   3   288.50    0        0  22:00:00  2014-12-31\n",
      "102695 2014-12-31 22:15:00   3   210.77    0        0  22:15:00  2014-12-31\n",
      "102696 2014-12-31 22:30:00   3   294.08    0        0  22:30:00  2014-12-31\n",
      "102697 2014-12-31 22:45:00   3   266.02    0        0  22:45:00  2014-12-31\n",
      "102698 2014-12-31 23:00:00   3   501.91    0        0  23:00:00  2014-12-31\n",
      "102699 2014-12-31 23:15:00   3   468.01    0        0  23:15:00  2014-12-31\n",
      "102700 2014-12-31 23:30:00   3   292.85    0        0  23:30:00  2014-12-31\n",
      "102701 2014-12-31 23:45:00   3   226.91    0        0  23:45:00  2014-12-31\n",
      "\n",
      "[34923 rows x 7 columns]\n"
     ]
    },
    {
     "data": {
      "image/png": "[encoded data removed]",
      "text/plain": [
       "<Figure size 432x288 with 1 Axes>"
      ]
     },
     "metadata": {
      "needs_background": "light"
     },
     "output_type": "display_data"
    }
   ],
   "source": [
    "Y = np.hstack(inactivity_anomaly_vectors)\n",
    "unexpected_anomalies_count = 0\n",
    "current_anomaly = []\n",
    "unexpected_anomalies = []\n",
    "min_anomaly_length = 5\n",
    "year = 2014\n",
    "for k, y in enumerate(Y):\n",
    "    if y >= 2:\n",
    "        if y >= 3:\n",
    "            unexpected_anomalies_count += 1\n",
    "            current_anomaly.append(k)\n",
    "    else:\n",
    "        if unexpected_anomalies_count >= min_anomaly_length:\n",
    "            anomaly_range = \\\n",
    "                [\n",
    "                    datetime.datetime(year, 1, 1) + datetime.timedelta(hours=int(current_anomaly[0])),\n",
    "                    datetime.datetime(year, 1, 1) + datetime.timedelta(hours=int(current_anomaly[-1])),\n",
    "                ]\n",
    "\n",
    "            unexpected_anomalies.append(anomaly_range)\n",
    "\n",
    "        current_anomaly = []\n",
    "        unexpected_anomalies_count = 0\n",
    "\n",
    "first = '2014-01-01 00:00:00'\n",
    "last = '2014-12-31 23:59:59'\n",
    "unexpected_anomalies_str = [[x.strftime('%Y-%m-%d %H:%M:%S') for x in r] for r in unexpected_anomalies]\n",
    "visualize_household(household_id, first, last, unexpected_anomalies_str)"
   ]
  }
 ],
 "metadata": {
  "kernelspec": {
   "display_name": "Python 3",
   "language": "python",
   "name": "python3"
  },
  "language_info": {
   "codemirror_mode": {
    "name": "ipython",
    "version": 3
   },
   "file_extension": ".py",
   "mimetype": "text/x-python",
   "name": "python",
   "nbconvert_exporter": "python",
   "pygments_lexer": "ipython3",
   "version": "3.6.7"
  },
  "stem_cell": {
   "cell_type": "raw",
   "metadata": {
    "pycharm": {
     "metadata": false
    }
   },
   "source": "#EnBw Challenge\n"
  }
 },
 "nbformat": 4,
 "nbformat_minor": 1
}
